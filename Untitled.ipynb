{
 "cells": [
  {
   "cell_type": "code",
   "execution_count": null,
   "id": "9c186fb4-c19d-4498-b56b-bfc49b6eb287",
   "metadata": {},
   "outputs": [],
   "source": []
  },
  {
   "cell_type": "code",
   "execution_count": 3,
   "id": "242cfe78-f17b-4c80-bf5e-5f078e1e30f6",
   "metadata": {},
   "outputs": [
    {
     "name": "stderr",
     "output_type": "stream",
     "text": [
      "WARNING: Package(s) not found: umap-learn\n"
     ]
    }
   ],
   "source": [
    "!pip show umap-learn"
   ]
  },
  {
   "cell_type": "code",
   "execution_count": null,
   "id": "83307104-5e78-4316-863c-2b77fb651811",
   "metadata": {},
   "outputs": [],
   "source": []
  },
  {
   "cell_type": "code",
   "execution_count": 1,
   "id": "f956ec2a-542c-4c6b-a55c-f36afd15bdb1",
   "metadata": {},
   "outputs": [],
   "source": [
    "#!pip install -r requirements.txt"
   ]
  },
  {
   "cell_type": "code",
   "execution_count": 2,
   "id": "8fe70d46-e9ad-4222-bd29-f0d6c1870b22",
   "metadata": {},
   "outputs": [
    {
     "ename": "ModuleNotFoundError",
     "evalue": "No module named 'umap'",
     "output_type": "error",
     "traceback": [
      "\u001b[1;31m---------------------------------------------------------------------------\u001b[0m",
      "\u001b[1;31mModuleNotFoundError\u001b[0m                       Traceback (most recent call last)",
      "Cell \u001b[1;32mIn[2], line 4\u001b[0m\n\u001b[0;32m      2\u001b[0m \u001b[38;5;28;01mimport\u001b[39;00m \u001b[38;5;21;01mcv2\u001b[39;00m\n\u001b[0;32m      3\u001b[0m \u001b[38;5;28;01mimport\u001b[39;00m \u001b[38;5;21;01mmatplotlib\u001b[39;00m\u001b[38;5;21;01m.\u001b[39;00m\u001b[38;5;21;01mpyplot\u001b[39;00m \u001b[38;5;28;01mas\u001b[39;00m \u001b[38;5;21;01mplt\u001b[39;00m\n\u001b[1;32m----> 4\u001b[0m \u001b[38;5;28;01mimport\u001b[39;00m \u001b[38;5;21;01mumap\u001b[39;00m\n\u001b[0;32m      5\u001b[0m \u001b[38;5;28;01mimport\u001b[39;00m \u001b[38;5;21;01mhdbscan\u001b[39;00m\n\u001b[0;32m      6\u001b[0m \u001b[38;5;28;01mfrom\u001b[39;00m \u001b[38;5;21;01msklearn\u001b[39;00m\u001b[38;5;21;01m.\u001b[39;00m\u001b[38;5;21;01mmanifold\u001b[39;00m \u001b[38;5;28;01mimport\u001b[39;00m TSNE\n",
      "\u001b[1;31mModuleNotFoundError\u001b[0m: No module named 'umap'"
     ]
    }
   ],
   "source": [
    "import numpy as np\n",
    "import cv2\n",
    "import matplotlib.pyplot as plt\n",
    "import umap\n",
    "import hdbscan\n",
    "from sklearn.manifold import TSNE\n",
    "from sklearn.metrics import pairwise_distances_argmin_min\n",
    "from PIL import Image"
   ]
  },
  {
   "cell_type": "code",
   "execution_count": null,
   "id": "bf4bd7fb-eb27-4c3c-ac62-4474eb4c35ba",
   "metadata": {},
   "outputs": [],
   "source": []
  },
  {
   "cell_type": "code",
   "execution_count": null,
   "id": "dca4ab2d-418c-42df-b307-94c81bbedd96",
   "metadata": {},
   "outputs": [],
   "source": [
    "# --- Settings ---\n",
    "input_path = 'input.png'\n",
    "output_path = 'output.png'\n",
    "use_umap = True  # Set to False to use t-SNE\n",
    "\n",
    "# --- Load image ---\n",
    "img = cv2.imread(input_path)\n",
    "img_rgb = cv2.cvtColor(img, cv2.COLOR_BGR2RGB)\n",
    "h, w, _ = img_rgb.shape\n",
    "pixels = img_rgb.reshape(-1, 3)\n",
    "\n",
    "# --- Dimensionality Reduction for plotting ---\n",
    "if use_umap:\n",
    "    reducer = umap.UMAP(n_components=2, random_state=42)\n",
    "else:\n",
    "    reducer = TSNE(n_components=2, random_state=42)\n",
    "\n",
    "embedding = reducer.fit_transform(pixels)\n",
    "\n",
    "# --- Plot scatter of color distribution ---\n",
    "plt.figure(figsize=(8, 6))\n",
    "plt.scatter(embedding[:, 0], embedding[:, 1], c=pixels / 255.0, s=0.5)\n",
    "plt.title(\"2D Projection of Pixel Colors\")\n",
    "plt.axis('off')\n",
    "plt.tight_layout()\n",
    "plt.savefig(\"color_projection.png\", dpi=300)\n",
    "plt.close()"
   ]
  },
  {
   "cell_type": "code",
   "execution_count": null,
   "id": "34bf0e56-f026-4244-916d-15d5162c7827",
   "metadata": {},
   "outputs": [],
   "source": []
  },
  {
   "cell_type": "code",
   "execution_count": null,
   "id": "abe88c3a-f54b-43e9-836c-f1c6f930df10",
   "metadata": {},
   "outputs": [],
   "source": [
    "# --- Cluster pixels using HDBSCAN ---\n",
    "clusterer = hdbscan.HDBSCAN(min_cluster_size=50)\n",
    "labels = clusterer.fit_predict(pixels)\n",
    "\n",
    "# Replace noise points with nearest cluster\n",
    "noise_mask = labels == -1\n",
    "if np.any(noise_mask):\n",
    "    print(\"Handling noise points...\")\n",
    "    clustered_pixels = pixels[~noise_mask]\n",
    "    clustered_labels = labels[~noise_mask]\n",
    "    cluster_centers = np.array([\n",
    "        clustered_pixels[clustered_labels == i].mean(axis=0)\n",
    "        for i in np.unique(clustered_labels)\n",
    "    ])\n",
    "    closest_cluster, _ = pairwise_distances_argmin_min(pixels[noise_mask], cluster_centers)\n",
    "    labels[noise_mask] = closest_cluster\n",
    "\n",
    "# --- Compute cluster centroids ---\n",
    "unique_labels = np.unique(labels)\n",
    "centroids = np.array([\n",
    "    pixels[labels == label].mean(axis=0)\n",
    "    for label in unique_labels\n",
    "]).astype(np.uint8)\n",
    "\n",
    "# --- Map each pixel to its cluster's centroid ---\n",
    "new_pixels = centroids[labels]\n",
    "new_img = new_pixels.reshape(h, w, 3)\n"
   ]
  },
  {
   "cell_type": "code",
   "execution_count": null,
   "id": "38080507-9da8-4096-a1a8-cfe0c883580f",
   "metadata": {},
   "outputs": [],
   "source": []
  },
  {
   "cell_type": "code",
   "execution_count": null,
   "id": "e4178d0d-31ef-42c9-917c-b55ab8c4ab1e",
   "metadata": {},
   "outputs": [],
   "source": []
  },
  {
   "cell_type": "code",
   "execution_count": null,
   "id": "01d1a03f-7948-4982-9c83-acac53b85225",
   "metadata": {},
   "outputs": [],
   "source": [
    "# --- Save the output image ---\n",
    "Image.fromarray(new_img).save(output_path, format='PNG', compress_level=0)\n",
    "print(f\"Saved reduced-palette image to {output_path}\")\n"
   ]
  },
  {
   "cell_type": "code",
   "execution_count": null,
   "id": "04724592-fd25-4a18-a7b6-3a21a5f4ecb6",
   "metadata": {},
   "outputs": [],
   "source": []
  }
 ],
 "metadata": {
  "kernelspec": {
   "display_name": "Python 3 (ipykernel)",
   "language": "python",
   "name": "python3"
  },
  "language_info": {
   "codemirror_mode": {
    "name": "ipython",
    "version": 3
   },
   "file_extension": ".py",
   "mimetype": "text/x-python",
   "name": "python",
   "nbconvert_exporter": "python",
   "pygments_lexer": "ipython3",
   "version": "3.10.11"
  }
 },
 "nbformat": 4,
 "nbformat_minor": 5
}
