{
 "cells": [
  {
   "cell_type": "code",
   "execution_count": null,
   "id": "23d8cf98-a47e-4c31-8159-ac648d65ef19",
   "metadata": {},
   "outputs": [],
   "source": []
  },
  {
   "cell_type": "code",
   "execution_count": 1,
   "id": "fceac203-faaf-4c4c-a0df-f22f7879535d",
   "metadata": {},
   "outputs": [],
   "source": []
  },
  {
   "cell_type": "code",
   "execution_count": 2,
   "id": "b7b9cb25-0062-4776-a8d1-03a194f4512a",
   "metadata": {},
   "outputs": [
    {
     "ename": "ModuleNotFoundError",
     "evalue": "No module named 'seaborn'",
     "output_type": "error",
     "traceback": [
      "\u001b[1;31m---------------------------------------------------------------------------\u001b[0m",
      "\u001b[1;31mModuleNotFoundError\u001b[0m                       Traceback (most recent call last)",
      "Cell \u001b[1;32mIn[2], line 3\u001b[0m\n\u001b[0;32m      1\u001b[0m \u001b[38;5;28;01mimport\u001b[39;00m\u001b[38;5;250m \u001b[39m\u001b[38;5;21;01mnumpy\u001b[39;00m\u001b[38;5;250m \u001b[39m\u001b[38;5;28;01mas\u001b[39;00m\u001b[38;5;250m \u001b[39m\u001b[38;5;21;01mnp\u001b[39;00m\n\u001b[0;32m      2\u001b[0m \u001b[38;5;28;01mimport\u001b[39;00m\u001b[38;5;250m \u001b[39m\u001b[38;5;21;01mmatplotlib\u001b[39;00m\u001b[38;5;21;01m.\u001b[39;00m\u001b[38;5;21;01mpyplot\u001b[39;00m\u001b[38;5;250m \u001b[39m\u001b[38;5;28;01mas\u001b[39;00m\u001b[38;5;250m \u001b[39m\u001b[38;5;21;01mplt\u001b[39;00m\n\u001b[1;32m----> 3\u001b[0m \u001b[38;5;28;01mimport\u001b[39;00m\u001b[38;5;250m \u001b[39m\u001b[38;5;21;01mseaborn\u001b[39;00m\u001b[38;5;250m \u001b[39m\u001b[38;5;28;01mas\u001b[39;00m\u001b[38;5;250m \u001b[39m\u001b[38;5;21;01msns\u001b[39;00m\n\u001b[0;32m      4\u001b[0m \u001b[38;5;28;01mfrom\u001b[39;00m\u001b[38;5;250m \u001b[39m\u001b[38;5;21;01mmpl_toolkits\u001b[39;00m\u001b[38;5;21;01m.\u001b[39;00m\u001b[38;5;21;01mmplot3d\u001b[39;00m\u001b[38;5;250m \u001b[39m\u001b[38;5;28;01mimport\u001b[39;00m Axes3D  \u001b[38;5;66;03m# Needed for 3D projection\u001b[39;00m\n\u001b[0;32m      5\u001b[0m \u001b[38;5;28;01mfrom\u001b[39;00m\u001b[38;5;250m \u001b[39m\u001b[38;5;21;01msklearn\u001b[39;00m\u001b[38;5;21;01m.\u001b[39;00m\u001b[38;5;21;01mmanifold\u001b[39;00m\u001b[38;5;250m \u001b[39m\u001b[38;5;28;01mimport\u001b[39;00m TSNE\n",
      "\u001b[1;31mModuleNotFoundError\u001b[0m: No module named 'seaborn'"
     ]
    }
   ],
   "source": [
    "import numpy as np\n",
    "import matplotlib.pyplot as plt\n",
    "import seaborn as sns\n",
    "from mpl_toolkits.mplot3d import Axes3D  # Needed for 3D projection\n",
    "from sklearn.manifold import TSNE\n",
    "from sklearn.cluster import DBSCAN\n",
    "from sklearn.metrics import pairwise_distances_argmin_min\n",
    "from sklearn.cluster import KMeans\n",
    "from PIL import Image\n",
    "import umap\n",
    "import os\n",
    "from itertools import product\n"
   ]
  },
  {
   "cell_type": "code",
   "execution_count": null,
   "id": "8cb81868-cc0c-4add-a159-c73c18e18e72",
   "metadata": {},
   "outputs": [],
   "source": []
  },
  {
   "cell_type": "code",
   "execution_count": null,
   "id": "2795e87e-0761-4813-853a-beafd7b3b82a",
   "metadata": {},
   "outputs": [],
   "source": []
  },
  {
   "cell_type": "code",
   "execution_count": null,
   "id": "3ed0bc49-cf95-4cea-9dce-e842c1894968",
   "metadata": {},
   "outputs": [],
   "source": [
    "def downsample(img, block_size, offset):\n",
    "    h, w, c = img.shape\n",
    "    bh, bw = block_size\n",
    "    oy, ox = offset\n",
    "\n",
    "    # Compute the number of blocks that fit after applying the offset\n",
    "    nh = (h - oy) // bh\n",
    "    nw = (w - ox) // bw\n",
    "\n",
    "    # Crop the image to fit full blocks\n",
    "    img_crop = img[oy:oy+nh*bh, ox:ox+nw*bw]\n",
    "\n",
    "    # Reshape and take mean over blocks\n",
    "    reshaped = img_crop.reshape(nh, bh, nw, bw, c)\n",
    "    low_res = reshaped.mean(axis=(1, 3))  # shape: (nh, nw, c)\n",
    "\n",
    "    return low_res\n",
    "\n",
    "def upsample(low_res, block_size, img_shape):\n",
    "    nh, nw, c = low_res.shape\n",
    "    bh, bw = block_size\n",
    "    upsampled = np.kron(low_res, np.ones((bh, bw, 1)))  # Nearest-neighbor upscale\n",
    "    return upsampled[:img_shape[0], :img_shape[1]]  # Crop if needed\n",
    "\n",
    "def compute_error(original, upsampled):\n",
    "    diff = original - upsampled\n",
    "    error = np.sqrt((diff ** 2).sum(axis=2))  # Per-pixel Euclidean distance\n",
    "    return error.mean()\n",
    "\n",
    "def find_best_parameters(img, block_min: int = 8, block_max: int = 16):\n",
    "    block_range = (block_min, block_max)\n",
    "    max_offset = block_max\n",
    "    \n",
    "    h, w, _ = img.shape\n",
    "    best_error = float('inf')\n",
    "    best_params = None\n",
    "\n",
    "    for block_size in range(block_range[0], block_range[1] + 1):\n",
    "        error_mat = np.nan * np.ones([max_offset, max_offset])\n",
    "        print(f'Now testing block size: {block_size}')\n",
    "        for oy in range(0, max_offset + 1):\n",
    "            for ox in range(0, max_offset + 1):\n",
    "                try:\n",
    "                    low_res = downsample(img, (block_size, block_size), (oy, ox))\n",
    "                    upsampled = upsample(low_res, (block_size, block_size), (h, w))\n",
    "                    error = compute_error(img.astype(np.float32), upsampled.astype(np.float32))\n",
    "\n",
    "                    if error < best_error:\n",
    "                        best_error = error\n",
    "                        best_params = (block_size, ox, oy)\n",
    "\n",
    "                    error_mat[ox, oy] = error\n",
    "                except Exception as e:\n",
    "                    # Might happen on edge cases where crop is too small, skip them\n",
    "                    continue\n",
    "\n",
    "            plt.figure()\n",
    "            sns.heatmap(error_mat)\n",
    "            plt.title(f'error offset matrix for block_size: {block_size}')\n",
    "            plt.xlabel('x offset (pixels)')\n",
    "            plt.ylabel('y offset (pixels)')\n",
    "\n",
    "    return best_params, best_error"
   ]
  },
  {
   "cell_type": "code",
   "execution_count": null,
   "id": "9508358c-e96e-43de-90f7-b2b3ed6e0cf6",
   "metadata": {},
   "outputs": [],
   "source": []
  },
  {
   "cell_type": "code",
   "execution_count": null,
   "id": "91e533e0-2f55-4c19-81c9-69526ef640c5",
   "metadata": {},
   "outputs": [],
   "source": []
  },
  {
   "cell_type": "code",
   "execution_count": null,
   "id": "6f457dda-8267-4602-a9b3-7363cecab339",
   "metadata": {},
   "outputs": [],
   "source": [
    "# --- Load Image ---\n",
    "base_dir = os.path.abspath(os.getcwd())\n",
    "file_name = 'ent_mini_boss_1024px.png'\n",
    "input_path = os.path.join(base_dir, 'projects', 'castle', file_name)\n",
    "img_rgba = Image.open(input_path).convert(\"RGBA\")\n",
    "img_data = np.array(img_rgba)\n"
   ]
  },
  {
   "cell_type": "code",
   "execution_count": null,
   "id": "5b934139-23b6-4371-b355-6c4239546d31",
   "metadata": {},
   "outputs": [],
   "source": []
  },
  {
   "cell_type": "code",
   "execution_count": null,
   "id": "b6b8c64d-6a18-4551-91a6-6b730c039e94",
   "metadata": {},
   "outputs": [],
   "source": [
    "%%time\n",
    "\n",
    "# manually set params after inspecting approximate block size from image\n",
    "block_min = 9\n",
    "block_max = 14\n",
    "\n",
    "# --- Find best parameters ---  # NOTE: this takes about ~30 s per block_size for a 1024x1024 image\n",
    "best_params, best_error = find_best_parameters(img_data, block_min, block_max)\n",
    "print(f\"Best block size & offset: {best_params}, Error: {best_error:.2f}\")"
   ]
  },
  {
   "cell_type": "code",
   "execution_count": null,
   "id": "960d303e-0329-41d9-b806-a74cef7dbfd8",
   "metadata": {},
   "outputs": [],
   "source": []
  },
  {
   "cell_type": "code",
   "execution_count": null,
   "id": "559be6d3-6138-4718-88b6-f20555d50c19",
   "metadata": {},
   "outputs": [],
   "source": []
  },
  {
   "cell_type": "code",
   "execution_count": null,
   "id": "5fba560c-c42b-4362-9113-a5b83842e59d",
   "metadata": {},
   "outputs": [],
   "source": []
  }
 ],
 "metadata": {
  "kernelspec": {
   "display_name": "Python 3 (ipykernel)",
   "language": "python",
   "name": "python3"
  },
  "language_info": {
   "codemirror_mode": {
    "name": "ipython",
    "version": 3
   },
   "file_extension": ".py",
   "mimetype": "text/x-python",
   "name": "python",
   "nbconvert_exporter": "python",
   "pygments_lexer": "ipython3",
   "version": "3.10.11"
  }
 },
 "nbformat": 4,
 "nbformat_minor": 5
}
