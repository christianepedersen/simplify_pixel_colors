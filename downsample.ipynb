{
 "cells": [
  {
   "cell_type": "code",
   "execution_count": null,
   "id": "23d8cf98-a47e-4c31-8159-ac648d65ef19",
   "metadata": {},
   "outputs": [],
   "source": []
  },
  {
   "cell_type": "code",
   "execution_count": null,
   "id": "fceac203-faaf-4c4c-a0df-f22f7879535d",
   "metadata": {},
   "outputs": [],
   "source": []
  },
  {
   "cell_type": "code",
   "execution_count": 1,
   "id": "b7b9cb25-0062-4776-a8d1-03a194f4512a",
   "metadata": {},
   "outputs": [],
   "source": [
    "import numpy as np\n",
    "from PIL import Image\n",
    "import os\n",
    "import matplotlib.pyplot as plt\n",
    "import seaborn as sns\n"
   ]
  },
  {
   "cell_type": "code",
   "execution_count": null,
   "id": "8cb81868-cc0c-4add-a159-c73c18e18e72",
   "metadata": {},
   "outputs": [],
   "source": []
  },
  {
   "cell_type": "code",
   "execution_count": null,
   "id": "2795e87e-0761-4813-853a-beafd7b3b82a",
   "metadata": {},
   "outputs": [],
   "source": []
  },
  {
   "cell_type": "code",
   "execution_count": 2,
   "id": "3ed0bc49-cf95-4cea-9dce-e842c1894968",
   "metadata": {},
   "outputs": [],
   "source": [
    "\n",
    "def downsample_float(img, block_size, offset):\n",
    "    h, w, c = img.shape\n",
    "    bh, bw = block_size\n",
    "    oy, ox = offset\n",
    "\n",
    "    nh = int(np.floor((h - oy) / bh))\n",
    "    nw = int(np.floor((w - ox) / bw))\n",
    "\n",
    "    low_res = np.zeros((nh, nw, c), dtype=np.float32)\n",
    "\n",
    "    for i in range(nh):\n",
    "        for j in range(nw):\n",
    "            y0 = int(np.floor(oy + i * bh))\n",
    "            y1 = int(np.floor(oy + (i + 1) * bh))\n",
    "            x0 = int(np.floor(ox + j * bw))\n",
    "            x1 = int(np.floor(ox + (j + 1) * bw))\n",
    "\n",
    "            block = img[y0:y1, x0:x1]\n",
    "            if block.size == 0:\n",
    "                continue\n",
    "            low_res[i, j] = block.mean(axis=(0, 1))\n",
    "\n",
    "    crop_y0 = int(np.floor(oy))\n",
    "    crop_x0 = int(np.floor(ox))\n",
    "    crop_y1 = int(np.floor(oy + nh * bh))\n",
    "    crop_x1 = int(np.floor(ox + nw * bw))\n",
    "\n",
    "    return low_res, crop_y0, crop_x0, crop_y1, crop_x1\n",
    "\n",
    "def upsample_float(low_res, block_size, img_shape, offset):\n",
    "    h, w = img_shape\n",
    "    bh, bw = block_size\n",
    "    oy, ox = offset\n",
    "    nh, nw, c = low_res.shape\n",
    "\n",
    "    upsampled = np.zeros((h, w, c), dtype=np.float32)\n",
    "\n",
    "    for i in range(nh):\n",
    "        for j in range(nw):\n",
    "            y0 = int(np.floor(oy + i * bh))\n",
    "            y1 = int(np.floor(oy + (i + 1) * bh))\n",
    "            x0 = int(np.floor(ox + j * bw))\n",
    "            x1 = int(np.floor(ox + (j + 1) * bw))\n",
    "\n",
    "            upsampled[y0:y1, x0:x1] = low_res[i, j]\n",
    "\n",
    "    return upsampled\n",
    "\n",
    "def compute_error(original, upsampled):\n",
    "    diff = original - upsampled\n",
    "    error = np.sqrt((diff ** 2).sum(axis=2))\n",
    "    return error.mean()\n",
    "\n",
    "def find_best_parameters(img, block_min: float = 8.0, block_max: float = 16.0, block_increment: float = 0.1):\n",
    "    block_range = []\n",
    "    blk = block_min\n",
    "    while blk <= block_max:\n",
    "        block_range.append(np.round(blk, 2))\n",
    "        blk += block_increment\n",
    "\n",
    "    max_offset = int(block_max)\n",
    "\n",
    "    h, w, _ = img.shape\n",
    "    best_error = float('inf')\n",
    "    best_params = None\n",
    "    best_crop = None\n",
    "\n",
    "    for block_size in block_range:\n",
    "        error_mat = np.zeros([max_offset + 1, max_offset + 1])\n",
    "        print(f'Now testing block size: {block_size}')\n",
    "        for oy in range(0, max_offset + 1):\n",
    "            for ox in range(0, max_offset + 1):\n",
    "                try:\n",
    "                    low_res, crop_y0, crop_x0, crop_y1, crop_x1 = downsample_float(\n",
    "                        img, (block_size, block_size), (oy, ox)\n",
    "                    )\n",
    "                    upsampled = upsample_float(\n",
    "                        low_res, (block_size, block_size), (h, w), (oy, ox)\n",
    "                    )\n",
    "                    cropped_original = img[crop_y0:crop_y1, crop_x0:crop_x1]\n",
    "                    cropped_upsampled = upsampled[crop_y0:crop_y1, crop_x0:crop_x1]\n",
    "\n",
    "                    if cropped_original.shape != cropped_upsampled.shape:\n",
    "                        continue\n",
    "\n",
    "                    error = compute_error(\n",
    "                        cropped_original.astype(np.float32),\n",
    "                        cropped_upsampled.astype(np.float32)\n",
    "                    )\n",
    "\n",
    "                    if error < best_error:\n",
    "                        best_error = error\n",
    "                        best_params = (block_size, oy, ox)\n",
    "                        best_crop = (crop_y0, crop_y1, crop_x0, crop_x1)\n",
    "\n",
    "                    error_mat[oy, ox] = error\n",
    "                except Exception as e:\n",
    "                    continue  # skip bad combos\n",
    "\n",
    "        plt.figure()\n",
    "        sns.heatmap(error_mat, vmin=error_mat.min(), vmax=error_mat.max(), cmap='viridis')\n",
    "        plt.title(f'Error offset matrix for block_size: {block_size}')\n",
    "        plt.xlabel('x offset (pixels)')\n",
    "        plt.ylabel('y offset (pixels)')\n",
    "        plt.show()\n",
    "\n",
    "    return best_params, best_crop, best_error\n"
   ]
  },
  {
   "cell_type": "code",
   "execution_count": null,
   "id": "9508358c-e96e-43de-90f7-b2b3ed6e0cf6",
   "metadata": {},
   "outputs": [],
   "source": []
  },
  {
   "cell_type": "code",
   "execution_count": null,
   "id": "91e533e0-2f55-4c19-81c9-69526ef640c5",
   "metadata": {},
   "outputs": [],
   "source": []
  },
  {
   "cell_type": "code",
   "execution_count": null,
   "id": "7e1102ee-70b9-4438-85a8-ffe699d3d7a6",
   "metadata": {},
   "outputs": [],
   "source": []
  },
  {
   "cell_type": "code",
   "execution_count": 3,
   "id": "6f457dda-8267-4602-a9b3-7363cecab339",
   "metadata": {},
   "outputs": [],
   "source": [
    "# --- Load Image ---\n",
    "base_dir = os.path.abspath(os.getcwd())\n",
    "file_name = 'ent_mini_boss_1024px.png'\n",
    "input_path = os.path.join(base_dir, 'projects', 'castle', file_name)\n",
    "img_rgba = Image.open(input_path).convert(\"RGBA\")\n",
    "img_data = np.array(img_rgba)\n"
   ]
  },
  {
   "cell_type": "code",
   "execution_count": null,
   "id": "5b934139-23b6-4371-b355-6c4239546d31",
   "metadata": {},
   "outputs": [],
   "source": []
  },
  {
   "cell_type": "code",
   "execution_count": 4,
   "id": "b6b8c64d-6a18-4551-91a6-6b730c039e94",
   "metadata": {},
   "outputs": [
    {
     "name": "stdout",
     "output_type": "stream",
     "text": [
      "Now testing block size: 10.72\n"
     ]
    },
    {
     "data": {
      "image/png": "[encoded data removed]",
      "text/plain": [
       "<Figure size 640x480 with 2 Axes>"
      ]
     },
     "metadata": {},
     "output_type": "display_data"
    },
    {
     "name": "stdout",
     "output_type": "stream",
     "text": [
      "Now testing block size: 10.73\n"
     ]
    },
    {
     "data": {
      "image/png": "[encoded data removed]",
      "text/plain": [
       "<Figure size 640x480 with 2 Axes>"
      ]
     },
     "metadata": {},
     "output_type": "display_data"
    },
    {
     "name": "stdout",
     "output_type": "stream",
     "text": [
      "Best block size, y_offset, x_offset: (10.72, 8, 7), Error: 7.39\n",
      "How to crop image -->\n",
      "Ideal crop width: 1007, ideal crop height: 1007\n",
      "Ideal crop x offset: 7, ideal crop y offset: 8\n",
      "Ideal target downsample width: 94, and height: 94\n",
      "CPU times: total: 59.9 s\n",
      "Wall time: 60 s\n"
     ]
    }
   ],
   "source": [
    "%%time\n",
    "\n",
    "# manually set params after inspecting approximate block size from image\n",
    "block_increment = 0.01  # 0.1 is a good starter for most situations\n",
    "block_min = 10.72  # 6 is a good starter for most situations\n",
    "block_max = 10.73  # 14 is a good starter for most situations\n",
    "\n",
    "# --- Find best parameters ---  # NOTE: this takes about ~30 s per block_size for a 1024x1024 image\n",
    "best_params, best_crop, best_error = find_best_parameters(img_data, block_min, block_max, block_increment)\n",
    "print(f\"Best block size, y_offset, x_offset: {best_params}, Error: {best_error:.2f}\")\n",
    "crop_width = best_crop[3] - best_crop[2]\n",
    "crop_height = best_crop[1] - best_crop[0]\n",
    "target_width = int(np.round(crop_width / best_params[0]))\n",
    "target_height = int(np.round(crop_height / best_params[0]))\n",
    "print('How to crop image -->' )\n",
    "print(f'Ideal crop width: {crop_width}, ideal crop height: {crop_height}')\n",
    "print(f'Ideal crop x offset: {best_crop[2]}, ideal crop y offset: {best_crop[0]}')\n",
    "print(f'Ideal target downsample width: {target_width}, and height: {target_height}')"
   ]
  },
  {
   "cell_type": "code",
   "execution_count": null,
   "id": "960d303e-0329-41d9-b806-a74cef7dbfd8",
   "metadata": {},
   "outputs": [],
   "source": []
  },
  {
   "cell_type": "code",
   "execution_count": 5,
   "id": "559be6d3-6138-4718-88b6-f20555d50c19",
   "metadata": {},
   "outputs": [],
   "source": [
    "# ent mini boss block_size was 10.7 --> 1024/10.7 = ~96"
   ]
  },
  {
   "cell_type": "code",
   "execution_count": 6,
   "id": "47886fa5-dd4f-4381-ba8d-ae3f07354c9d",
   "metadata": {},
   "outputs": [],
   "source": [
    "# Best block size, x_offset, y_offset: (10.72, 7, 8), Error: 7.39"
   ]
  },
  {
   "cell_type": "code",
   "execution_count": 7,
   "id": "5fba560c-c42b-4362-9113-a5b83842e59d",
   "metadata": {},
   "outputs": [
    {
     "data": {
      "text/plain": [
       "95.52238805970148"
      ]
     },
     "execution_count": 7,
     "metadata": {},
     "output_type": "execute_result"
    }
   ],
   "source": [
    "1024/10.72"
   ]
  },
  {
   "cell_type": "code",
   "execution_count": null,
   "id": "9f4be7c9-e2db-487c-880c-eaf1a56c6940",
   "metadata": {},
   "outputs": [],
   "source": []
  },
  {
   "cell_type": "code",
   "execution_count": 8,
   "id": "fa521e1f-b51e-448a-9f59-f86d13410903",
   "metadata": {},
   "outputs": [],
   "source": [
    "img = img_data\n",
    "\n",
    "block_size = (10.72, 10.72)\n",
    "offset = (8, 7)\n",
    "\n",
    "h, w, c = img.shape\n",
    "bh, bw = block_size\n",
    "oy, ox = offset\n",
    "\n",
    "nh = int(np.floor((h - oy) / bh))\n",
    "nw = int(np.floor((w - ox) / bw))\n",
    "\n",
    "low_res = np.zeros((nh, nw, c), dtype=np.float32)\n",
    "\n",
    "for i in range(nh):\n",
    "    for j in range(nw):\n",
    "        y0 = int(np.floor(oy + i * bh))\n",
    "        y1 = int(np.floor(oy + (i + 1) * bh))\n",
    "        x0 = int(np.floor(ox + j * bw))\n",
    "        x1 = int(np.floor(ox + (j + 1) * bw))\n",
    "\n",
    "        block = img[y0:y1, x0:x1]\n",
    "        if block.size == 0:\n",
    "            continue\n",
    "        low_res[i, j] = block.mean(axis=(0, 1))\n",
    "\n",
    "crop_y0 = int(np.floor(oy))\n",
    "crop_x0 = int(np.floor(ox))\n",
    "crop_y1 = int(np.floor(oy + nh * bh))\n",
    "crop_x1 = int(np.floor(ox + nw * bw))"
   ]
  },
  {
   "cell_type": "code",
   "execution_count": 9,
   "id": "38a52670-85be-42ad-bed8-b64929a48c91",
   "metadata": {},
   "outputs": [
    {
     "data": {
      "text/plain": [
       "(8, 1015)"
      ]
     },
     "execution_count": 9,
     "metadata": {},
     "output_type": "execute_result"
    }
   ],
   "source": [
    "crop_y0, crop_y1"
   ]
  },
  {
   "cell_type": "code",
   "execution_count": 10,
   "id": "1f6ce6b6-cee4-4a57-9d02-58b49f2810c7",
   "metadata": {},
   "outputs": [
    {
     "data": {
      "text/plain": [
       "(7, 1014)"
      ]
     },
     "execution_count": 10,
     "metadata": {},
     "output_type": "execute_result"
    }
   ],
   "source": [
    "crop_x0, crop_x1"
   ]
  },
  {
   "cell_type": "code",
   "execution_count": null,
   "id": "50f96484-aa6f-42ae-83ee-ebc1807837ad",
   "metadata": {},
   "outputs": [],
   "source": []
  },
  {
   "cell_type": "code",
   "execution_count": 11,
   "id": "821e3413-19d8-4423-8be3-6de5987c9021",
   "metadata": {},
   "outputs": [
    {
     "data": {
      "text/plain": [
       "1007"
      ]
     },
     "execution_count": 11,
     "metadata": {},
     "output_type": "execute_result"
    }
   ],
   "source": [
    "1015-8"
   ]
  },
  {
   "cell_type": "code",
   "execution_count": 12,
   "id": "3be57326-06c2-4658-a8ee-8d12c50abb6b",
   "metadata": {},
   "outputs": [
    {
     "data": {
      "text/plain": [
       "93.9365671641791"
      ]
     },
     "execution_count": 12,
     "metadata": {},
     "output_type": "execute_result"
    }
   ],
   "source": [
    "1007/10.72"
   ]
  },
  {
   "cell_type": "code",
   "execution_count": null,
   "id": "5b12606f-a1d2-42c6-9bb4-b49acd99bd8f",
   "metadata": {},
   "outputs": [],
   "source": []
  }
 ],
 "metadata": {
  "kernelspec": {
   "display_name": "Python 3 (ipykernel)",
   "language": "python",
   "name": "python3"
  },
  "language_info": {
   "codemirror_mode": {
    "name": "ipython",
    "version": 3
   },
   "file_extension": ".py",
   "mimetype": "text/x-python",
   "name": "python",
   "nbconvert_exporter": "python",
   "pygments_lexer": "ipython3",
   "version": "3.10.11"
  }
 },
 "nbformat": 4,
 "nbformat_minor": 5
}
